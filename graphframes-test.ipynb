{
 "cells": [
  {
   "cell_type": "code",
   "execution_count": 1,
   "metadata": {},
   "outputs": [],
   "source": [
    "from pyspark.sql import SparkSession\n",
    "from graphframes import GraphFrame\n",
    "from receiptprocessor.graphframes.connected_components import ConnectedComponents\n"
   ]
  },
  {
   "cell_type": "code",
   "execution_count": 2,
   "metadata": {},
   "outputs": [],
   "source": [
    "spark = (\n",
    "    SparkSession.builder.master(\"local[2]\")\n",
    "    .appName(\"local-tests\")\n",
    "    .config(\"spark.jars.packages\", \"graphframes:graphframes:0.8.2-spark3.2-s_2.12\")\n",
    "    .getOrCreate()\n",
    ")\n",
    "spark.sparkContext.setCheckpointDir(\".spark_checkpoint\")"
   ]
  },
  {
   "cell_type": "code",
   "execution_count": 3,
   "metadata": {},
   "outputs": [
    {
     "name": "stdout",
     "output_type": "stream",
     "text": [
      "+---+-----+-----+---------+-----------+--------+\n",
      "| id| anid| AdId| userIDFA| SapphireId|Cashback|\n",
      "+---+-----+-----+---------+-----------+--------+\n",
      "|id1|anid1| null|userIDFA1|SapphireId1|     0.1|\n",
      "|id2|anid1|AdId1|     null|       null|     0.2|\n",
      "|id3|anid2|AdId1|     null|SapphireId2|     0.3|\n",
      "|id4|anid3| null|     null|SapphireId2|     0.4|\n",
      "|id5|anid4| null|userIDFA2|       null|     0.5|\n",
      "|id6|anid5| null|userIDFA2|SapphireId3|     0.6|\n",
      "|id7|anid5| null|userIDFA2|SapphireId3|     0.7|\n",
      "|id8|anid5| null|userIDFA2|SapphireId3|     0.8|\n",
      "|id9|anid6| null|     null|       null|     0.9|\n",
      "+---+-----+-----+---------+-----------+--------+\n",
      "\n"
     ]
    }
   ],
   "source": [
    "def cleaned_data(spark_session):\n",
    "    data = [\n",
    "        (\"id1\", \"anid1\", None, \"userIDFA1\", \"SapphireId1\", 0.1),\n",
    "        (\"id2\", \"anid1\", \"AdId1\", None, None, 0.2),\n",
    "        (\"id3\", \"anid2\", \"AdId1\", None, \"SapphireId2\", 0.3),\n",
    "        (\"id4\", \"anid3\", None, None, \"SapphireId2\", 0.4),\n",
    "        (\"id5\", \"anid4\", None, \"userIDFA2\", None, 0.5),\n",
    "        (\"id6\", \"anid5\", None, \"userIDFA2\", \"SapphireId3\", 0.6),\n",
    "        (\"id7\", \"anid5\", None, \"userIDFA2\", \"SapphireId3\", 0.7),\n",
    "        (\"id8\", \"anid5\", None, \"userIDFA2\", \"SapphireId3\", 0.8),\n",
    "        (\"id9\", \"anid6\", None, None, None, 0.9),\n",
    "    ]\n",
    "\n",
    "    df = spark_session.createDataFrame(\n",
    "        data, [\"id\", \"anid\", \"AdId\", \"userIDFA\", \"SapphireId\", \"Cashback\"]\n",
    "    )\n",
    "    return df\n",
    "\n",
    "df = cleaned_data(spark)\n",
    "df.show()"
   ]
  },
  {
   "cell_type": "code",
   "execution_count": 4,
   "metadata": {},
   "outputs": [],
   "source": [
    "edge_columns = [\"id\", \"Cashback\"]\n",
    "vertice_columns = [\"anid\", \"AdId\", \"SapphireId\", \"userIDFA\"]\n",
    "connected_components_transformer = ConnectedComponents(edge_columns=edge_columns, vertice_columns=vertice_columns)"
   ]
  },
  {
   "cell_type": "code",
   "execution_count": 5,
   "metadata": {},
   "outputs": [
    {
     "name": "stdout",
     "output_type": "stream",
     "text": [
      "Wrote _tmp_graphframe/vertices to: _tmp_graphframe/vertices-0fd6b7d8-6f28-41e6-992c-9f827a708c90\n",
      "Wrote _tmp_graphframe/edges to: _tmp_graphframe/edges-94f11e8f-f887-4543-a88b-bcda0beffec5\n",
      "+-----------+----------+------------+\n",
      "|         id|      Type|   component|\n",
      "+-----------+----------+------------+\n",
      "|      AdId1|      AdId|369367187456|\n",
      "|      anid3|      anid|369367187456|\n",
      "|      anid1|      anid|369367187456|\n",
      "|SapphireId1|SapphireId|369367187456|\n",
      "|      anid2|      anid|369367187456|\n",
      "|  userIDFA1|  userIDFA|369367187456|\n",
      "|SapphireId2|SapphireId|369367187456|\n",
      "|  userIDFA2|  userIDFA|  8589934592|\n",
      "|SapphireId3|SapphireId|  8589934592|\n",
      "|      anid6|      anid|111669149696|\n",
      "|      anid4|      anid|  8589934592|\n",
      "|      anid5|      anid|  8589934592|\n",
      "+-----------+----------+------------+\n",
      "\n"
     ]
    }
   ],
   "source": [
    "connected_components_transformer.transform(df).show()"
   ]
  },
  {
   "cell_type": "code",
   "execution_count": null,
   "metadata": {},
   "outputs": [],
   "source": []
  }
 ],
 "metadata": {
  "kernelspec": {
   "display_name": "base",
   "language": "python",
   "name": "python3"
  },
  "language_info": {
   "codemirror_mode": {
    "name": "ipython",
    "version": 3
   },
   "file_extension": ".py",
   "mimetype": "text/x-python",
   "name": "python",
   "nbconvert_exporter": "python",
   "pygments_lexer": "ipython3",
   "version": "3.10.5"
  },
  "orig_nbformat": 4
 },
 "nbformat": 4,
 "nbformat_minor": 2
}
